{
 "cells": [
  {
   "cell_type": "code",
   "execution_count": 1,
   "metadata": {},
   "outputs": [],
   "source": [
    "import numpy as np\n",
    "import pandas as pd"
   ]
  },
  {
   "cell_type": "code",
   "execution_count": 19,
   "metadata": {},
   "outputs": [
    {
     "name": "stdout",
     "output_type": "stream",
     "text": [
      "   Apple  Bananas\n",
      "0     30       21\n",
      "            Apples  Bananas\n",
      "2017 Sales      35       21\n",
      "2018 Sales      41       34\n"
     ]
    }
   ],
   "source": [
    "#1. 請建立類似提供結果的 DataFrame：\n",
    "#    Apples  Bananas\n",
    "# 0      30       21\n",
    "\n",
    "#             Apples  Bananas\n",
    "# 2017 Sales      35       21\n",
    "# 2018 Sales      41       34\n",
    "\n",
    "df1 = pd.DataFrame({\n",
    "    'Apple' : [30],\n",
    "    'Bananas' : [21]\n",
    "})\n",
    "print(df1)\n",
    "\n",
    "df2 = pd.DataFrame([[35, 21], [41, 34]], index = ['2017 Sales', '2018 Sales'], columns = ['Apples', 'Bananas'])\n",
    "print(df2)"
   ]
  },
  {
   "cell_type": "code",
   "execution_count": 10,
   "metadata": {},
   "outputs": [
    {
     "data": {
      "text/plain": [
       "[[30], [31]]"
      ]
     },
     "execution_count": 10,
     "metadata": {},
     "output_type": "execute_result"
    }
   ],
   "source": [
    "s = [[30], [31]]\n",
    "s"
   ]
  },
  {
   "cell_type": "code",
   "execution_count": 23,
   "metadata": {},
   "outputs": [
    {
     "name": "stdout",
     "output_type": "stream",
     "text": [
      "     city  vistor weekday\n",
      "0  Austin     139     Sun\n",
      "1  Dallas     237     Sun\n",
      "2  Austin     326     Mon\n",
      "3  Dallas     456     Mon\n"
     ]
    }
   ],
   "source": [
    "#2. 請問如果現在有一個 DataFrame 如下，請問資料在 Python 中可能長怎樣？\n",
    "#      city  visitor weekday\n",
    "# 0  Austin      139     Sun\n",
    "# 1  Dallas      237     Sun\n",
    "# 2  Austin      326     Mon\n",
    "# 3  Dallas      456     Mon\n",
    "\n",
    "df3 = pd.DataFrame({\n",
    "    'city' : ['Austin', 'Dallas', 'Austin', 'Dallas'],\n",
    "    'vistor' : [139, 237, 326, 456],\n",
    "    'weekday' : ['Sun', 'Sun', 'Mon', 'Mon'],\n",
    "})\n",
    "print(df3)"
   ]
  },
  {
   "cell_type": "code",
   "execution_count": 60,
   "metadata": {},
   "outputs": [
    {
     "name": "stdout",
     "output_type": "stream",
     "text": [
      "     city  vistor weekday\n",
      "2  Austin     326     Mon\n",
      "3  Dallas     456     Mon\n",
      "391.0\n",
      "     city  vistor weekday\n",
      "0  Austin     139     Sun\n",
      "1  Dallas     237     Sun\n",
      "188.0\n"
     ]
    }
   ],
   "source": [
    "#3承上題，假設你想知道每個 weekday 的平均 visitor 數量，可以怎麼做？\n",
    "Mon_mask = (df3['weekday'] == 'Mon')\n",
    "df_temp = df3[Mon_mask]\n",
    "print(df_temp)\n",
    "Mon_vistor_avg = df_temp.vistor.mean()\n",
    "print(Mon_vistor_avg)\n",
    "\n",
    "Mon_mask = (df3['weekday'] == 'Sun')\n",
    "df_temp = df3[Mon_mask]\n",
    "print(df_temp)\n",
    "Mon_vistor_avg = df_temp.vistor.mean()\n",
    "print(Mon_vistor_avg)"
   ]
  },
  {
   "cell_type": "code",
   "execution_count": null,
   "metadata": {},
   "outputs": [],
   "source": []
  }
 ],
 "metadata": {
  "kernelspec": {
   "display_name": "Python 3",
   "language": "python",
   "name": "python3"
  },
  "language_info": {
   "codemirror_mode": {
    "name": "ipython",
    "version": 3
   },
   "file_extension": ".py",
   "mimetype": "text/x-python",
   "name": "python",
   "nbconvert_exporter": "python",
   "pygments_lexer": "ipython3",
   "version": "3.8.5"
  }
 },
 "nbformat": 4,
 "nbformat_minor": 4
}
