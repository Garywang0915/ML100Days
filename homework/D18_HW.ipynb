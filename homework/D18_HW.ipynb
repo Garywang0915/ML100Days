{
 "cells": [
  {
   "cell_type": "code",
   "execution_count": null,
   "metadata": {},
   "outputs": [],
   "source": [
    "#1.在速度較慢的時候，可以先從哪邊開始檢查？\n",
    "\n",
    "#檢查讀取資料的格式、將函式改成內建的函式為主，不得以的話也盡量使用GroupBy或是Agg等執行較快的函式、改成向量化的計算\n",
    "\n",
    "#2.資料過大時應採取什麼方式讓記憶體占用量下降？\n",
    "\n",
    "# 將整數資料型態int修改為uint，float 64改成 float 32"
   ]
  }
 ],
 "metadata": {
  "kernelspec": {
   "display_name": "Python 3",
   "language": "python",
   "name": "python3"
  },
  "language_info": {
   "codemirror_mode": {
    "name": "ipython",
    "version": 3
   },
   "file_extension": ".py",
   "mimetype": "text/x-python",
   "name": "python",
   "nbconvert_exporter": "python",
   "pygments_lexer": "ipython3",
   "version": "3.8.5"
  }
 },
 "nbformat": 4,
 "nbformat_minor": 4
}
