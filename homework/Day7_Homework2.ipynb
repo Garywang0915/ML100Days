{
 "cells": [
  {
   "cell_type": "code",
   "execution_count": 1,
   "metadata": {},
   "outputs": [],
   "source": [
    "import numpy as np\n",
    "import timeit"
   ]
  },
  {
   "cell_type": "code",
   "execution_count": 2,
   "metadata": {},
   "outputs": [],
   "source": [
    "# 1. 請比較對一個 100 x 100 x 100 的陣列，使用不同方法對每一個元素 +1 的時間比較。\n",
    "Z = np.random.randint(0, 10, 1000000).reshape(100, 100, 100)"
   ]
  },
  {
   "cell_type": "code",
   "execution_count": 3,
   "metadata": {},
   "outputs": [],
   "source": [
    "#方法1:直接全部+1\n",
    "%timeit -n 10 a = 2\n",
    "\n",
    "Z_method1 = Z + 1\n",
    "\n",
    "print(Z[0,0,0])\n",
    "print(Z_method1[0,0,0])"
   ]
  },
  {
   "cell_type": "code",
   "execution_count": 4,
   "metadata": {},
   "outputs": [
    {
     "name": "stdout",
     "output_type": "stream",
     "text": [
      "32.9 ns ± 4.52 ns per loop (mean ± std. dev. of 7 runs, 10 loops each)\n",
      "7\n",
      "8\n"
     ]
    }
   ],
   "source": [
    "#方法2:用falt把它攤平\n",
    "%timeit -n 10 a = 2\n",
    "\n",
    "Z_method2 = []\n",
    "\n",
    "for i in Z.flat:\n",
    "    Z_method2.append(i+1)\n",
    "\n",
    "Z_method2_array = np.array(Z_method2, dtype = int).reshape(100,100,100)\n",
    "print(Z[0,0,0])\n",
    "print(Z_method2_array[0,0,0])"
   ]
  },
  {
   "cell_type": "code",
   "execution_count": 5,
   "metadata": {},
   "outputs": [
    {
     "name": "stdout",
     "output_type": "stream",
     "text": [
      "30 ns ± 9.26 ns per loop (mean ± std. dev. of 7 runs, 10 loops each)\n",
      "7\n",
      "8\n"
     ]
    }
   ],
   "source": [
    "#方法3:nditer\n",
    "%timeit -n 10 a = 2\n",
    "\n",
    "Z_method3 = []\n",
    "\n",
    "for i in np.nditer(Z, order = 'C'):\n",
    "    Z_method3.append(i+1)\n",
    "\n",
    "Z_method3_array = np.array(Z_method3, dtype = int).reshape(100,100,100)\n",
    "print(Z[0,0,0])\n",
    "print(Z_method2_array[0,0,0])"
   ]
  },
  {
   "cell_type": "code",
   "execution_count": 19,
   "metadata": {},
   "outputs": [
    {
     "name": "stdout",
     "output_type": "stream",
     "text": [
      "[ 5  5  7 11  3  4  3  6  1  5]\n",
      "出現頻率最高的值為 3\n"
     ]
    }
   ],
   "source": [
    "#2. 如何從一個陣列中，找出出現頻率最高的數值與位置？\n",
    "\n",
    "Z = np.random.randint(0,10,50)\n",
    "\n",
    "Z_bincount = np.bincount(Z) # 找0~序列最大值在array中出現的次數\n",
    "print(Z_bincount)\n",
    "Z_index = np.argmax(Z_bincount)\n",
    "Z_index\n",
    "print(\"出現頻率最高的值為:\", Z_index)  \n",
    "\n"
   ]
  },
  {
   "cell_type": "code",
   "execution_count": 20,
   "metadata": {},
   "outputs": [
    {
     "name": "stdout",
     "output_type": "stream",
     "text": [
      "[3, 3, 9, 6, 9, 5]\n",
      "[3, 3, 9, 6, 9, 5]\n",
      "[[6, 9, 4, 6], [7, 3, 5, 4], [5, 3, 8, 1]]\n",
      "[array([6, 9, 4, 6]), array([7, 3, 5, 4]), array([5, 3, 8, 1])]\n",
      "[[[7, 8], [9, 9], [5, 9]], [[7, 8], [9, 6], [0, 3]]]\n",
      "[array([[7, 8],\n",
      "       [9, 9],\n",
      "       [5, 9]]), array([[7, 8],\n",
      "       [9, 6],\n",
      "       [0, 3]])]\n"
     ]
    }
   ],
   "source": [
    "#3. 如何利用 list(...) 實現 a.tolist() 的效果？試著用程式實作\n",
    "\n",
    "a = np.random.randint(10, size=6) \n",
    "\n",
    "print(a.tolist())\n",
    "print(list(a))\n",
    "\n",
    "\n",
    "b = np.random.randint(10, size=(3,4)) \n",
    "\n",
    "print(b.tolist())\n",
    "print(list(b))\n",
    "\n",
    "\n",
    "c = np.random.randint(10, size=(2,3,2)) \n",
    "\n",
    "print(c.tolist())\n",
    "print(list(c))"
   ]
  },
  {
   "cell_type": "code",
   "execution_count": 23,
   "metadata": {},
   "outputs": [
    {
     "data": {
      "text/plain": [
       "[[[7, 8], [9, 9], [5, 9]], [[7, 8], [9, 6], [0, 3]]]"
      ]
     },
     "execution_count": 23,
     "metadata": {},
     "output_type": "execute_result"
    }
   ],
   "source": [
    "def mylist(iterable):\n",
    "    if type(iterable) != np.ndarray:\n",
    "        return iterable\n",
    "    \n",
    "    temp_list = []\n",
    "    \n",
    "    for row in iterable:\n",
    "        temp_list.append(mylist(row))\n",
    "    return temp_list\n",
    "\n",
    "mylist(c)"
   ]
  },
  {
   "cell_type": "code",
   "execution_count": null,
   "metadata": {},
   "outputs": [],
   "source": []
  }
 ],
 "metadata": {
  "kernelspec": {
   "display_name": "Python 3",
   "language": "python",
   "name": "python3"
  },
  "language_info": {
   "codemirror_mode": {
    "name": "ipython",
    "version": 3
   },
   "file_extension": ".py",
   "mimetype": "text/x-python",
   "name": "python",
   "nbconvert_exporter": "python",
   "pygments_lexer": "ipython3",
   "version": "3.8.5"
  }
 },
 "nbformat": 4,
 "nbformat_minor": 4
}
