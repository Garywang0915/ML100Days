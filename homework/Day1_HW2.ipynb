{
 "cells": [
  {
   "cell_type": "code",
   "execution_count": 1,
   "metadata": {},
   "outputs": [],
   "source": [
    "import numpy as np"
   ]
  },
  {
   "cell_type": "code",
   "execution_count": 2,
   "metadata": {},
   "outputs": [
    {
     "data": {
      "text/plain": [
       "array([ 0,  1,  2,  3,  4,  5,  6,  7,  8,  9, 10, 11, 12, 13, 14, 15, 16,\n",
       "       17, 18, 19, 20])"
      ]
     },
     "execution_count": 2,
     "metadata": {},
     "output_type": "execute_result"
    }
   ],
   "source": [
    "# 問題1\n",
    "a = np.arange(21)\n",
    "a"
   ]
  },
  {
   "cell_type": "code",
   "execution_count": 3,
   "metadata": {},
   "outputs": [
    {
     "name": "stdout",
     "output_type": "stream",
     "text": [
      "偶數 : [ 2  4  6  8 10 12 14 16 18 20]\n"
     ]
    }
   ],
   "source": [
    "# 問題2,取出偶數\n",
    "a_withoutZero = a[1:] #去掉0\n",
    "a_even = a_withoutZero[1::2]\n",
    "a_odd = a_withoutZero[0::2]\n",
    "                       \n",
    "print(\"偶數 :\", a_even)"
   ]
  },
  {
   "cell_type": "code",
   "execution_count": 4,
   "metadata": {},
   "outputs": [
    {
     "name": "stdout",
     "output_type": "stream",
     "text": [
      "3的倍數 : [ 0  3  6  9 12 15 18]\n"
     ]
    }
   ],
   "source": [
    "# 問題3,取出3的倍數\n",
    "ans = a[::3]\n",
    "print(\"3的倍數 :\", ans)"
   ]
  },
  {
   "cell_type": "code",
   "execution_count": 5,
   "metadata": {},
   "outputs": [],
   "source": [
    "# 問題4 請問下列兩種將 Array 轉換成 List 的方式有何不同？\n",
    "a = np.random.randint(10, size=6) \n",
    "b = np.random.randint(10, size=(3,4)) \n",
    "c = np.random.randint(10, size=(2,3,2)) "
   ]
  },
  {
   "cell_type": "code",
   "execution_count": 6,
   "metadata": {},
   "outputs": [
    {
     "name": "stdout",
     "output_type": "stream",
     "text": [
      "list(a):  [0, 2, 1, 8, 7, 0]\n",
      "tolist():  [0, 2, 1, 8, 7, 0]\n"
     ]
    }
   ],
   "source": [
    "print('list(a): ', list(a))\n",
    "print('tolist(): ', a.tolist())"
   ]
  },
  {
   "cell_type": "code",
   "execution_count": 7,
   "metadata": {},
   "outputs": [],
   "source": [
    "a1 = list(a)\n",
    "a2 = a.tolist()"
   ]
  },
  {
   "cell_type": "code",
   "execution_count": 8,
   "metadata": {},
   "outputs": [
    {
     "data": {
      "text/plain": [
       "numpy.int32"
      ]
     },
     "execution_count": 8,
     "metadata": {},
     "output_type": "execute_result"
    }
   ],
   "source": [
    "type(a1[0])"
   ]
  },
  {
   "cell_type": "code",
   "execution_count": 9,
   "metadata": {},
   "outputs": [
    {
     "data": {
      "text/plain": [
       "int"
      ]
     },
     "execution_count": 9,
     "metadata": {},
     "output_type": "execute_result"
    }
   ],
   "source": [
    "type(a2[0])"
   ]
  },
  {
   "cell_type": "code",
   "execution_count": 10,
   "metadata": {},
   "outputs": [
    {
     "data": {
      "text/plain": [
       "'\\nlist為list of numpy.int\\ntolist為list of int\\n'"
      ]
     },
     "execution_count": 10,
     "metadata": {},
     "output_type": "execute_result"
    }
   ],
   "source": [
    "'''\n",
    "list為list of numpy.int\n",
    "tolist為list of int\n",
    "'''"
   ]
  },
  {
   "cell_type": "code",
   "execution_count": 11,
   "metadata": {},
   "outputs": [
    {
     "name": "stdout",
     "output_type": "stream",
     "text": [
      "ndim:  1\n",
      "shape:  (6,)\n",
      "size:  6\n",
      "dtype:  int32\n",
      "itemsize:  4\n",
      "data:  <memory at 0x00000234325FA640>\n"
     ]
    }
   ],
   "source": [
    "# 問題5請試著在程式中印出以下三個 NdArray 的屬性？\n",
    "#（屬性：ndim、shape、size、dtype、itemsize、length、type）\n",
    "print('ndim: ', a.ndim)\n",
    "print('shape: ', a.shape)\n",
    "print('size: ', a.size)\n",
    "print('dtype: ', a.dtype)\n",
    "print('itemsize: ', a.itemsize)\n",
    "print('data: ', a.data)"
   ]
  },
  {
   "cell_type": "code",
   "execution_count": 12,
   "metadata": {},
   "outputs": [
    {
     "name": "stdout",
     "output_type": "stream",
     "text": [
      "ndim:  2\n",
      "shape:  (3, 4)\n",
      "size:  12\n",
      "dtype:  int32\n",
      "itemsize:  4\n",
      "data:  <memory at 0x0000023433B27860>\n"
     ]
    }
   ],
   "source": [
    "print('ndim: ', b.ndim)\n",
    "print('shape: ', b.shape)\n",
    "print('size: ', b.size)\n",
    "print('dtype: ', b.dtype)\n",
    "print('itemsize: ', b.itemsize)\n",
    "print('data: ', b.data)"
   ]
  },
  {
   "cell_type": "code",
   "execution_count": 13,
   "metadata": {},
   "outputs": [
    {
     "name": "stdout",
     "output_type": "stream",
     "text": [
      "ndim:  3\n",
      "shape:  (2, 3, 2)\n",
      "size:  12\n",
      "dtype:  int32\n",
      "itemsize:  4\n",
      "data:  <memory at 0x00000234326059A0>\n"
     ]
    }
   ],
   "source": [
    "print('ndim: ', c.ndim)\n",
    "print('shape: ', c.shape)\n",
    "print('size: ', c.size)\n",
    "print('dtype: ', c.dtype)\n",
    "print('itemsize: ', c.itemsize)\n",
    "print('data: ', c.data)"
   ]
  },
  {
   "cell_type": "code",
   "execution_count": 14,
   "metadata": {},
   "outputs": [
    {
     "name": "stdout",
     "output_type": "stream",
     "text": [
      "[0, 2, 1, 8, 7, 0]\n",
      "[0, 2, 1, 8, 7, 0]\n"
     ]
    }
   ],
   "source": [
    "#問題 6 如何利用 list(...) 實現 a.tolist() 的效果？試著用程式實作。\n",
    "print(a.tolist())\n",
    "print(list(a))"
   ]
  },
  {
   "cell_type": "code",
   "execution_count": 15,
   "metadata": {},
   "outputs": [
    {
     "name": "stdout",
     "output_type": "stream",
     "text": [
      "[[2, 8, 9, 0], [8, 1, 8, 5], [4, 7, 9, 8]]\n",
      "[array([2, 8, 9, 0]), array([8, 1, 8, 5]), array([4, 7, 9, 8])]\n"
     ]
    }
   ],
   "source": [
    "print(b.tolist())\n",
    "print(list(b))"
   ]
  },
  {
   "cell_type": "code",
   "execution_count": 16,
   "metadata": {},
   "outputs": [
    {
     "name": "stdout",
     "output_type": "stream",
     "text": [
      "[[[6, 3], [4, 3], [2, 8]], [[1, 4], [8, 6], [2, 7]]]\n",
      "[array([[6, 3],\n",
      "       [4, 3],\n",
      "       [2, 8]]), array([[1, 4],\n",
      "       [8, 6],\n",
      "       [2, 7]])]\n"
     ]
    },
    {
     "data": {
      "text/plain": [
       "[array([[6, 3],\n",
       "        [4, 3],\n",
       "        [2, 8]]),\n",
       " array([[1, 4],\n",
       "        [8, 6],\n",
       "        [2, 7]])]"
      ]
     },
     "execution_count": 16,
     "metadata": {},
     "output_type": "execute_result"
    }
   ],
   "source": [
    "print(c.tolist())\n",
    "print(list(c))\n",
    "list(c)"
   ]
  },
  {
   "cell_type": "code",
   "execution_count": 17,
   "metadata": {},
   "outputs": [],
   "source": [
    "def my_tolist(iterable):\n",
    "    array_dim = np.ndim(iterable)\n",
    "    array_size = np.size(iterable)\n",
    "    if array_dim == 1: # 1維陣列\n",
    "        return(list(iterable))\n",
    "    elif array_dim == 2:\n",
    "        x, y = np.shape(iterable)\n",
    "        temp_list = [[0 for j in range(y)] for i in range(x)]\n",
    "        for i in range(x):\n",
    "            for j in range(y):\n",
    "                temp_list[i][j] = iterable[i][j]\n",
    "        return(temp_list)\n",
    "    else: #3維陣列\n",
    "        x, y, z = np.shape(iterable)\n",
    "        temp_list = [[[0 for k in range(z)] for j in range(y)] for i in range(x)]\n",
    "        for i in range(x):\n",
    "            for j in range(y):\n",
    "                for k in range(z):\n",
    "                    temp_list[i][j][k] = iterable[i][j][k]\n",
    "        return(temp_list)"
   ]
  },
  {
   "cell_type": "code",
   "execution_count": 19,
   "metadata": {},
   "outputs": [
    {
     "data": {
      "text/plain": [
       "'\\narray_dim = np.ndim(b)\\narray_size = np.size(b)\\nx, y = np.shape(b)\\ntemp_list = [[0 for i in range(y)] for j in range(x)]\\nfor i in range(x):\\n    for j in range(y):\\n        #temp_list.append(b[i][j])\\n        temp_list[i][j] = b[i][j]\\ntemp_list\\n'"
      ]
     },
     "execution_count": 19,
     "metadata": {},
     "output_type": "execute_result"
    }
   ],
   "source": [
    "\"\"\"\n",
    "array_dim = np.ndim(b)\n",
    "array_size = np.size(b)\n",
    "x, y = np.shape(b)\n",
    "temp_list = [[0 for i in range(y)] for j in range(x)]\n",
    "for i in range(x):\n",
    "    for j in range(y):\n",
    "        #temp_list.append(b[i][j])\n",
    "        temp_list[i][j] = b[i][j]\n",
    "temp_list\n",
    "\"\"\""
   ]
  },
  {
   "cell_type": "code",
   "execution_count": 20,
   "metadata": {},
   "outputs": [
    {
     "data": {
      "text/plain": [
       "[0, 2, 1, 8, 7, 0]"
      ]
     },
     "execution_count": 20,
     "metadata": {},
     "output_type": "execute_result"
    }
   ],
   "source": [
    "my_tolist(a)"
   ]
  },
  {
   "cell_type": "code",
   "execution_count": 21,
   "metadata": {},
   "outputs": [
    {
     "data": {
      "text/plain": [
       "[[2, 8, 9, 0], [8, 1, 8, 5], [4, 7, 9, 8]]"
      ]
     },
     "execution_count": 21,
     "metadata": {},
     "output_type": "execute_result"
    }
   ],
   "source": [
    "my_tolist(b)"
   ]
  },
  {
   "cell_type": "code",
   "execution_count": 22,
   "metadata": {},
   "outputs": [
    {
     "data": {
      "text/plain": [
       "[[[6, 3], [4, 3], [2, 8]], [[1, 4], [8, 6], [2, 7]]]"
      ]
     },
     "execution_count": 22,
     "metadata": {},
     "output_type": "execute_result"
    }
   ],
   "source": [
    "my_tolist(c)"
   ]
  },
  {
   "cell_type": "code",
   "execution_count": null,
   "metadata": {},
   "outputs": [],
   "source": []
  }
 ],
 "metadata": {
  "kernelspec": {
   "display_name": "Python 3",
   "language": "python",
   "name": "python3"
  },
  "language_info": {
   "codemirror_mode": {
    "name": "ipython",
    "version": 3
   },
   "file_extension": ".py",
   "mimetype": "text/x-python",
   "name": "python",
   "nbconvert_exporter": "python",
   "pygments_lexer": "ipython3",
   "version": "3.8.5"
  }
 },
 "nbformat": 4,
 "nbformat_minor": 4
}
