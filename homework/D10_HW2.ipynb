{
 "cells": [
  {
   "cell_type": "code",
   "execution_count": 1,
   "metadata": {},
   "outputs": [],
   "source": [
    "import pandas as pd\n",
    "import numpy as np"
   ]
  },
  {
   "cell_type": "code",
   "execution_count": 2,
   "metadata": {},
   "outputs": [
    {
     "data": {
      "text/plain": [
       "\"\\ndf.loc[ '2013-01-01', 'A'] # index: '2013-01-01', column: 'A'\\ndf.loc[ '2013-01-01', ['A', 'B'] ] # index: '2013-01-01', column: ['A','B']\\ndf.loc[ '2013-01-01':'2013-01-02', 'A' ] # index: ['2013-01-01'~ 2013-01-02'], column: 'A'\\ndf.loc[ '2013-01-01':'2013-01-05', 'A':'C'] # index: ['2013-01-01'~ 2013-01-05'], column: ['A' ~ 'C']\\n\\n\""
      ]
     },
     "execution_count": 2,
     "metadata": {},
     "output_type": "execute_result"
    }
   ],
   "source": [
    "# 1. [簡答題] 請問下列四種不同的 DataFrame 選取結果有什麼差異？\n",
    "'''\n",
    "df.loc[ '2013-01-01', 'A'] # index: '2013-01-01', column: 'A'\n",
    "df.loc[ '2013-01-01', ['A', 'B'] ] # index: '2013-01-01', column: ['A','B']\n",
    "df.loc[ '2013-01-01':'2013-01-02', 'A' ] # index: ['2013-01-01'~ 2013-01-02'], column: 'A'\n",
    "df.loc[ '2013-01-01':'2013-01-05', 'A':'C'] # index: ['2013-01-01'~ 2013-01-05'], column: ['A' ~ 'C']\n",
    "\n",
    "'''"
   ]
  },
  {
   "cell_type": "code",
   "execution_count": 4,
   "metadata": {},
   "outputs": [
    {
     "data": {
      "text/html": [
       "<div>\n",
       "<style scoped>\n",
       "    .dataframe tbody tr th:only-of-type {\n",
       "        vertical-align: middle;\n",
       "    }\n",
       "\n",
       "    .dataframe tbody tr th {\n",
       "        vertical-align: top;\n",
       "    }\n",
       "\n",
       "    .dataframe thead th {\n",
       "        text-align: right;\n",
       "    }\n",
       "</style>\n",
       "<table border=\"1\" class=\"dataframe\">\n",
       "  <thead>\n",
       "    <tr style=\"text-align: right;\">\n",
       "      <th></th>\n",
       "      <th>col1</th>\n",
       "      <th>col2</th>\n",
       "      <th>col3</th>\n",
       "    </tr>\n",
       "  </thead>\n",
       "  <tbody>\n",
       "    <tr>\n",
       "      <th>0</th>\n",
       "      <td>-0.063074</td>\n",
       "      <td>0.521839</td>\n",
       "      <td>2.672801</td>\n",
       "    </tr>\n",
       "    <tr>\n",
       "      <th>1</th>\n",
       "      <td>0.436515</td>\n",
       "      <td>0.003924</td>\n",
       "      <td>-0.367957</td>\n",
       "    </tr>\n",
       "    <tr>\n",
       "      <th>2</th>\n",
       "      <td>-0.724013</td>\n",
       "      <td>-1.106504</td>\n",
       "      <td>0.466800</td>\n",
       "    </tr>\n",
       "    <tr>\n",
       "      <th>3</th>\n",
       "      <td>-1.303415</td>\n",
       "      <td>0.536532</td>\n",
       "      <td>0.674175</td>\n",
       "    </tr>\n",
       "    <tr>\n",
       "      <th>4</th>\n",
       "      <td>1.022403</td>\n",
       "      <td>-1.177726</td>\n",
       "      <td>-1.475341</td>\n",
       "    </tr>\n",
       "    <tr>\n",
       "      <th>5</th>\n",
       "      <td>-0.436009</td>\n",
       "      <td>-1.605791</td>\n",
       "      <td>-1.789865</td>\n",
       "    </tr>\n",
       "  </tbody>\n",
       "</table>\n",
       "</div>"
      ],
      "text/plain": [
       "       col1      col2      col3\n",
       "0 -0.063074  0.521839  2.672801\n",
       "1  0.436515  0.003924 -0.367957\n",
       "2 -0.724013 -1.106504  0.466800\n",
       "3 -1.303415  0.536532  0.674175\n",
       "4  1.022403 -1.177726 -1.475341\n",
       "5 -0.436009 -1.605791 -1.789865"
      ]
     },
     "execution_count": 4,
     "metadata": {},
     "output_type": "execute_result"
    }
   ],
   "source": [
    "# 2. 請根據提供的資料，選擇出下列的要求：\n",
    "# - select the first 3 rows.\n",
    "# - select the odd rows. (index = 1, 3, 5)\n",
    "# - select the last 2 columns.\n",
    "# - select the even columns. (index = 0, 2, 4)\n",
    "df = pd.DataFrame(np.random.randn(6,3),columns=['col1','col2','col3'])\n",
    "df"
   ]
  },
  {
   "cell_type": "code",
   "execution_count": 54,
   "metadata": {},
   "outputs": [
    {
     "name": "stdout",
     "output_type": "stream",
     "text": [
      "       col1      col2      col3\n",
      "0 -0.063074  0.521839  2.672801\n",
      "1  0.436515  0.003924 -0.367957\n",
      "2 -0.724013 -1.106504  0.466800\n",
      "       col1      col2      col3\n",
      "1  0.436515  0.003924 -0.367957\n",
      "3 -1.303415  0.536532  0.674175\n",
      "5 -0.436009 -1.605791 -1.789865\n"
     ]
    }
   ],
   "source": [
    "print(df.loc[0:2])\n",
    "print(df.loc[1::2])\n"
   ]
  },
  {
   "cell_type": "code",
   "execution_count": 51,
   "metadata": {},
   "outputs": [
    {
     "name": "stdout",
     "output_type": "stream",
     "text": [
      "       col2      col3\n",
      "0  0.521839  2.672801\n",
      "1  0.003924 -0.367957\n",
      "2 -1.106504  0.466800\n",
      "3  0.536532  0.674175\n",
      "4 -1.177726 -1.475341\n",
      "5 -1.605791 -1.789865\n"
     ]
    }
   ],
   "source": [
    "print(df.iloc[:, -2:])"
   ]
  },
  {
   "cell_type": "code",
   "execution_count": 53,
   "metadata": {},
   "outputs": [
    {
     "name": "stdout",
     "output_type": "stream",
     "text": [
      "       col1      col3\n",
      "0 -0.063074  2.672801\n",
      "1  0.436515 -0.367957\n",
      "2 -0.724013  0.466800\n",
      "3 -1.303415  0.674175\n",
      "4  1.022403 -1.475341\n",
      "5 -0.436009 -1.789865\n"
     ]
    }
   ],
   "source": [
    "print(df.iloc[:, 0::2])"
   ]
  },
  {
   "cell_type": "code",
   "execution_count": 55,
   "metadata": {},
   "outputs": [
    {
     "data": {
      "text/html": [
       "<div>\n",
       "<style scoped>\n",
       "    .dataframe tbody tr th:only-of-type {\n",
       "        vertical-align: middle;\n",
       "    }\n",
       "\n",
       "    .dataframe tbody tr th {\n",
       "        vertical-align: top;\n",
       "    }\n",
       "\n",
       "    .dataframe thead th {\n",
       "        text-align: right;\n",
       "    }\n",
       "</style>\n",
       "<table border=\"1\" class=\"dataframe\">\n",
       "  <thead>\n",
       "    <tr style=\"text-align: right;\">\n",
       "      <th></th>\n",
       "      <th>0</th>\n",
       "      <th>1</th>\n",
       "      <th>2</th>\n",
       "      <th>3</th>\n",
       "    </tr>\n",
       "  </thead>\n",
       "  <tbody>\n",
       "    <tr>\n",
       "      <th>0</th>\n",
       "      <td>31</td>\n",
       "      <td>35</td>\n",
       "      <td>21</td>\n",
       "      <td>20</td>\n",
       "    </tr>\n",
       "    <tr>\n",
       "      <th>1</th>\n",
       "      <td>13</td>\n",
       "      <td>30</td>\n",
       "      <td>27</td>\n",
       "      <td>32</td>\n",
       "    </tr>\n",
       "    <tr>\n",
       "      <th>2</th>\n",
       "      <td>14</td>\n",
       "      <td>14</td>\n",
       "      <td>23</td>\n",
       "      <td>37</td>\n",
       "    </tr>\n",
       "    <tr>\n",
       "      <th>3</th>\n",
       "      <td>26</td>\n",
       "      <td>26</td>\n",
       "      <td>26</td>\n",
       "      <td>39</td>\n",
       "    </tr>\n",
       "    <tr>\n",
       "      <th>4</th>\n",
       "      <td>35</td>\n",
       "      <td>21</td>\n",
       "      <td>17</td>\n",
       "      <td>14</td>\n",
       "    </tr>\n",
       "    <tr>\n",
       "      <th>5</th>\n",
       "      <td>26</td>\n",
       "      <td>37</td>\n",
       "      <td>21</td>\n",
       "      <td>22</td>\n",
       "    </tr>\n",
       "    <tr>\n",
       "      <th>6</th>\n",
       "      <td>10</td>\n",
       "      <td>32</td>\n",
       "      <td>32</td>\n",
       "      <td>24</td>\n",
       "    </tr>\n",
       "    <tr>\n",
       "      <th>7</th>\n",
       "      <td>26</td>\n",
       "      <td>30</td>\n",
       "      <td>12</td>\n",
       "      <td>16</td>\n",
       "    </tr>\n",
       "    <tr>\n",
       "      <th>8</th>\n",
       "      <td>22</td>\n",
       "      <td>32</td>\n",
       "      <td>17</td>\n",
       "      <td>12</td>\n",
       "    </tr>\n",
       "    <tr>\n",
       "      <th>9</th>\n",
       "      <td>25</td>\n",
       "      <td>32</td>\n",
       "      <td>34</td>\n",
       "      <td>32</td>\n",
       "    </tr>\n",
       "    <tr>\n",
       "      <th>10</th>\n",
       "      <td>32</td>\n",
       "      <td>27</td>\n",
       "      <td>16</td>\n",
       "      <td>34</td>\n",
       "    </tr>\n",
       "    <tr>\n",
       "      <th>11</th>\n",
       "      <td>34</td>\n",
       "      <td>27</td>\n",
       "      <td>11</td>\n",
       "      <td>11</td>\n",
       "    </tr>\n",
       "    <tr>\n",
       "      <th>12</th>\n",
       "      <td>34</td>\n",
       "      <td>29</td>\n",
       "      <td>20</td>\n",
       "      <td>32</td>\n",
       "    </tr>\n",
       "    <tr>\n",
       "      <th>13</th>\n",
       "      <td>16</td>\n",
       "      <td>24</td>\n",
       "      <td>16</td>\n",
       "      <td>31</td>\n",
       "    </tr>\n",
       "    <tr>\n",
       "      <th>14</th>\n",
       "      <td>30</td>\n",
       "      <td>22</td>\n",
       "      <td>18</td>\n",
       "      <td>32</td>\n",
       "    </tr>\n",
       "  </tbody>\n",
       "</table>\n",
       "</div>"
      ],
      "text/plain": [
       "     0   1   2   3\n",
       "0   31  35  21  20\n",
       "1   13  30  27  32\n",
       "2   14  14  23  37\n",
       "3   26  26  26  39\n",
       "4   35  21  17  14\n",
       "5   26  37  21  22\n",
       "6   10  32  32  24\n",
       "7   26  30  12  16\n",
       "8   22  32  17  12\n",
       "9   25  32  34  32\n",
       "10  32  27  16  34\n",
       "11  34  27  11  11\n",
       "12  34  29  20  32\n",
       "13  16  24  16  31\n",
       "14  30  22  18  32"
      ]
     },
     "execution_count": 55,
     "metadata": {},
     "output_type": "execute_result"
    }
   ],
   "source": [
    "#3. 請根據提供的資料，選擇出下列的要求：\n",
    "\n",
    "df = pd.DataFrame(np.random.randint(10, 40, 60).reshape(-1, 4))\n",
    "df"
   ]
  },
  {
   "cell_type": "code",
   "execution_count": 66,
   "metadata": {},
   "outputs": [
    {
     "name": "stdout",
     "output_type": "stream",
     "text": [
      "0      True\n",
      "1     False\n",
      "2     False\n",
      "3      True\n",
      "4      True\n",
      "5      True\n",
      "6     False\n",
      "7      True\n",
      "8      True\n",
      "9      True\n",
      "10     True\n",
      "11     True\n",
      "12     True\n",
      "13    False\n",
      "14     True\n",
      "Name: 0, dtype: bool\n",
      "     0   1   2   3\n",
      "0   31  35  21  20\n",
      "3   26  26  26  39\n",
      "4   35  21  17  14\n",
      "5   26  37  21  22\n",
      "7   26  30  12  16\n",
      "8   22  32  17  12\n",
      "9   25  32  34  32\n",
      "10  32  27  16  34\n",
      "11  34  27  11  11\n",
      "12  34  29  20  32\n",
      "14  30  22  18  32\n"
     ]
    }
   ],
   "source": [
    "# - 1. filtered by first column > 20?\n",
    "print(df[df[0] > 20])"
   ]
  },
  {
   "cell_type": "code",
   "execution_count": 68,
   "metadata": {},
   "outputs": [
    {
     "name": "stdout",
     "output_type": "stream",
     "text": [
      "     0   1   2   3\n",
      "0   31  35  21  20\n",
      "3   26  26  26  39\n",
      "4   35  21  17  14\n",
      "5   26  37  21  22\n",
      "7   26  30  12  16\n",
      "8   22  32  17  12\n",
      "9   25  32  34  32\n",
      "10  32  27  16  34\n",
      "11  34  27  11  11\n",
      "12  34  29  20  32\n",
      "14  30  22  18  32\n"
     ]
    }
   ],
   "source": [
    "# - 2. filtered by first column + second column > 50\n",
    "print(df[df[0] + df[1] > 50])"
   ]
  },
  {
   "cell_type": "code",
   "execution_count": 90,
   "metadata": {},
   "outputs": [
    {
     "name": "stdout",
     "output_type": "stream",
     "text": [
      "     0   1   2   3\n",
      "0   31  35  21  20\n",
      "1   13  30  27  32\n",
      "2   14  14  23  37\n",
      "3   26  26  26  39\n",
      "5   26  37  21  22\n",
      "6   10  32  32  24\n",
      "7   26  30  12  16\n",
      "8   22  32  17  12\n",
      "9   25  32  34  32\n",
      "13  16  24  16  31\n",
      "     0   1   2   3\n",
      "0   31  35  21  20\n",
      "1   13  30  27  32\n",
      "2   14  14  23  37\n",
      "3   26  26  26  39\n",
      "5   26  37  21  22\n",
      "6   10  32  32  24\n",
      "7   26  30  12  16\n",
      "8   22  32  17  12\n",
      "9   25  32  34  32\n",
      "13  16  24  16  31\n"
     ]
    }
   ],
   "source": [
    "# - 3. filtered by first column < 30 or second column > 30\n",
    "mask1 = df[0]<30\n",
    "mask2 = df[1]>30\n",
    "print(df[(mask1) | (mask2)])\n",
    "print(df[(df[0]<30) | (df[1]>30)])\n"
   ]
  },
  {
   "cell_type": "code",
   "execution_count": 101,
   "metadata": {},
   "outputs": [
    {
     "name": "stdout",
     "output_type": "stream",
     "text": [
      "0     107\n",
      "1     102\n",
      "2      88\n",
      "3     117\n",
      "4      87\n",
      "5     106\n",
      "6      98\n",
      "7      84\n",
      "8      83\n",
      "9     123\n",
      "10    109\n",
      "11     83\n",
      "12    115\n",
      "13     87\n",
      "14    102\n",
      "dtype: int64\n",
      "     0   1   2   3\n",
      "0   31  35  21  20\n",
      "1   13  30  27  32\n",
      "3   26  26  26  39\n",
      "5   26  37  21  22\n",
      "9   25  32  34  32\n",
      "10  32  27  16  34\n",
      "12  34  29  20  32\n",
      "14  30  22  18  32\n"
     ]
    }
   ],
   "source": [
    "# - 4. filtered by total sum of row > 100\n",
    "print(df.sum(axis = 1))\n",
    "print(df[df.sum(axis = 1) > 100])"
   ]
  },
  {
   "cell_type": "code",
   "execution_count": null,
   "metadata": {},
   "outputs": [],
   "source": []
  }
 ],
 "metadata": {
  "kernelspec": {
   "display_name": "Python 3",
   "language": "python",
   "name": "python3"
  },
  "language_info": {
   "codemirror_mode": {
    "name": "ipython",
    "version": 3
   },
   "file_extension": ".py",
   "mimetype": "text/x-python",
   "name": "python",
   "nbconvert_exporter": "python",
   "pygments_lexer": "ipython3",
   "version": "3.8.5"
  }
 },
 "nbformat": 4,
 "nbformat_minor": 4
}
