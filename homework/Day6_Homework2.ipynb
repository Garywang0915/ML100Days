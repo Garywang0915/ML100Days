{
 "cells": [
  {
   "cell_type": "code",
   "execution_count": 1,
   "metadata": {},
   "outputs": [],
   "source": [
    "import numpy as np"
   ]
  },
  {
   "cell_type": "code",
   "execution_count": 2,
   "metadata": {},
   "outputs": [
    {
     "name": "stdout",
     "output_type": "stream",
     "text": [
      "15\n",
      "15\n",
      "15\n"
     ]
    }
   ],
   "source": [
    "# 1. [簡答題] 請問下列這三種方法有什麼不同？\n",
    "\n",
    "'''\n",
    "print(a.sum())\n",
    "print(np.sum(a))\n",
    "print(sum(a)) \n",
    "\n",
    "sum()為python內建的函式\n",
    "a.sum()和np.sum(a)為陣列才有的\n",
    "定義在np或是array下\n",
    "\n",
    "'''\n",
    "a = np.arange(6)\n",
    "\n",
    "print(a.sum())\n",
    "print(np.sum(a))\n",
    "print(sum(a)) \n",
    "\n"
   ]
  },
  {
   "cell_type": "code",
   "execution_count": 3,
   "metadata": {},
   "outputs": [
    {
     "name": "stdout",
     "output_type": "stream",
     "text": [
      "[[2.86065413e-01 2.58873183e-01 3.82064285e-01 5.77547039e-02\n",
      "  3.96630401e-01]\n",
      " [3.68994665e-01 8.44641210e-04 5.73606703e-04 4.65665208e-01\n",
      "  4.59425523e-01]\n",
      " [8.24654758e-01 3.10338104e-02 7.93068838e-01 4.89252741e-01\n",
      "  8.85438643e-02]\n",
      " [6.89801561e-01 6.61419531e-01 3.26747348e-02 5.21070028e-01\n",
      "  5.82183208e-01]\n",
      " [5.29498533e-01 9.14915977e-01 4.04974174e-01 9.53050273e-01\n",
      "  8.43287352e-01]]\n",
      "[[2.99736273e-01 2.71187301e-01 4.00524960e-01 6.00341187e-02\n",
      "  4.15817845e-01]\n",
      " [3.86803238e-01 2.84557634e-04 0.00000000e+00 4.88297107e-01\n",
      "  4.81746097e-01]\n",
      " [8.65198258e-01 3.19799999e-02 8.32036373e-01 5.13061528e-01\n",
      "  9.23594884e-02]\n",
      " [7.23616629e-01 6.93818492e-01 3.37027974e-02 5.46466323e-01\n",
      "  6.10628713e-01]\n",
      " [5.55315364e-01 9.59963013e-01 4.24577925e-01 1.00000000e+00\n",
      "  8.84760514e-01]]\n"
     ]
    }
   ],
   "source": [
    "# 2. 請對一個 5x5 的隨機矩陣作正規化的操作。\n",
    "\n",
    "a = np.random.rand(5,5)\n",
    "print(a)\n",
    "a_max = np.max(a)\n",
    "a_min = np.min(a)\n",
    "\n",
    "a_nor = (a - a_min)/(a_max - a_min)\n",
    "print(a_nor)"
   ]
  },
  {
   "cell_type": "code",
   "execution_count": 4,
   "metadata": {},
   "outputs": [
    {
     "name": "stdout",
     "output_type": "stream",
     "text": [
      "9\n",
      "修改前: [6 9 2 2 4 7 9 2 3 1]\n",
      "修改後: [ 6 -1  2  2  4  7 -1  2  3  1]\n"
     ]
    }
   ],
   "source": [
    "a = np.random.randint(1,10,10)\n",
    "a_max = np.max(a)\n",
    "print(a_max)\n",
    "print(\"修改前:\", a)\n",
    "\n",
    "for i in np.arange(np.size(a)):\n",
    "    if a[i] >= a_max:\n",
    "        a[i] = -1\n",
    "        \n",
    "print(\"修改後:\", a) "
   ]
  },
  {
   "cell_type": "code",
   "execution_count": null,
   "metadata": {},
   "outputs": [],
   "source": []
  },
  {
   "cell_type": "code",
   "execution_count": null,
   "metadata": {},
   "outputs": [],
   "source": []
  }
 ],
 "metadata": {
  "kernelspec": {
   "display_name": "Python 3",
   "language": "python",
   "name": "python3"
  },
  "language_info": {
   "codemirror_mode": {
    "name": "ipython",
    "version": 3
   },
   "file_extension": ".py",
   "mimetype": "text/x-python",
   "name": "python",
   "nbconvert_exporter": "python",
   "pygments_lexer": "ipython3",
   "version": "3.8.5"
  }
 },
 "nbformat": 4,
 "nbformat_minor": 4
}
