{
 "cells": [
  {
   "cell_type": "code",
   "execution_count": 1,
   "metadata": {},
   "outputs": [],
   "source": [
    "import numpy as np"
   ]
  },
  {
   "cell_type": "code",
   "execution_count": 2,
   "metadata": {},
   "outputs": [],
   "source": [
    "english_score = np.array([55,89,76,65,48,70])\n",
    "math_score = np.array([60,85,60,68,np.nan,60])\n",
    "chinese_score = np.array([65,90,82,72,66,77])"
   ]
  },
  {
   "cell_type": "code",
   "execution_count": 3,
   "metadata": {},
   "outputs": [
    {
     "name": "stdout",
     "output_type": "stream",
     "text": [
      "英文平均成績為: 67.166667, 最高分為 89 分, 最低分為 48 分, 標準差為 14.716204 分\n",
      "數學平均成績為: 66.600000, 最高分為 85 分, 最低分為 60 分, 標準差為 10.853571 分\n",
      "英文平均成績為: 75.333333, 最高分為 90 分, 最低分為 65 分, 標準差為 9.667816 分\n"
     ]
    }
   ],
   "source": [
    "#1. 請計算各科成績平均、最大值、最小值、標準差，其中數學缺一筆資料可忽略?\n",
    "print(\"英文平均成績為: %f, 最高分為 %d 分, 最低分為 %d 分, 標準差為 %f 分\" \\\n",
    "      % (np.mean(english_score), np.amax(english_score), np.amin(english_score), np.std(english_score, ddof = 1)))\n",
    "\n",
    "print(\"數學平均成績為: %f, 最高分為 %d 分, 最低分為 %d 分, 標準差為 %f 分\" \\\n",
    "      % (np.nanmean(math_score), np.nanmax(math_score), np.nanmin(math_score), np.nanstd(math_score, ddof = 1)))\n",
    "\n",
    "print(\"英文平均成績為: %f, 最高分為 %d 分, 最低分為 %d 分, 標準差為 %f 分\" \\\n",
    "      % (np.mean(chinese_score), np.amax(chinese_score), np.amin(chinese_score), np.std(chinese_score, ddof = 1)))"
   ]
  },
  {
   "cell_type": "code",
   "execution_count": 4,
   "metadata": {},
   "outputs": [
    {
     "name": "stdout",
     "output_type": "stream",
     "text": [
      "數學平均成績為: 64.666667, 最高分為 85 分, 最低分為 55 分, 標準差為 10.801234 分\n"
     ]
    }
   ],
   "source": [
    "#2. 第五位同學補考數學後成績為55，請計算補考後數學成績平均、最大值、最小值、標準差?\n",
    "math_score[4] = 55\n",
    "\n",
    "print(\"數學平均成績為: %f, 最高分為 %d 分, 最低分為 %d 分, 標準差為 %f 分\" \\\n",
    "      % (np.mean(math_score), np.max(math_score), np.min(math_score), np.std(math_score, ddof = 1)))"
   ]
  },
  {
   "cell_type": "code",
   "execution_count": 5,
   "metadata": {},
   "outputs": [],
   "source": [
    "#3. 用補考後資料找出與國文成績相關係數最高的學科?"
   ]
  },
  {
   "cell_type": "code",
   "execution_count": 6,
   "metadata": {},
   "outputs": [
    {
     "data": {
      "text/plain": [
       "array([[1.        , 0.97792828],\n",
       "       [0.97792828, 1.        ]])"
      ]
     },
     "execution_count": 6,
     "metadata": {},
     "output_type": "execute_result"
    }
   ],
   "source": [
    "np.corrcoef(english_score, chinese_score)"
   ]
  },
  {
   "cell_type": "code",
   "execution_count": 9,
   "metadata": {},
   "outputs": [
    {
     "data": {
      "text/plain": [
       "array([[1.        , 0.74056803],\n",
       "       [0.74056803, 1.        ]])"
      ]
     },
     "execution_count": 9,
     "metadata": {},
     "output_type": "execute_result"
    }
   ],
   "source": [
    "np.corrcoef(math_score, chinese_score)"
   ]
  },
  {
   "cell_type": "code",
   "execution_count": 7,
   "metadata": {},
   "outputs": [
    {
     "name": "stdout",
     "output_type": "stream",
     "text": [
      "\n"
     ]
    }
   ],
   "source": [
    "print(\"英文跟國文成績的相關係數最高\")"
   ]
  }
 ],
 "metadata": {
  "kernelspec": {
   "display_name": "Python 3",
   "language": "python",
   "name": "python3"
  },
  "language_info": {
   "codemirror_mode": {
    "name": "ipython",
    "version": 3
   },
   "file_extension": ".py",
   "mimetype": "text/x-python",
   "name": "python",
   "nbconvert_exporter": "python",
   "pygments_lexer": "ipython3",
   "version": "3.8.5"
  }
 },
 "nbformat": 4,
 "nbformat_minor": 4
}
