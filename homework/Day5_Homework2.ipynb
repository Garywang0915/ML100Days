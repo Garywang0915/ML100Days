{
 "cells": [
  {
   "cell_type": "code",
   "execution_count": 16,
   "metadata": {},
   "outputs": [],
   "source": [
    "import numpy as np"
   ]
  },
  {
   "cell_type": "code",
   "execution_count": 18,
   "metadata": {},
   "outputs": [
    {
     "name": "stdout",
     "output_type": "stream",
     "text": [
      "[ 1  2 -3 -4 -5 -6  7  8  9 10 11]\n"
     ]
    }
   ],
   "source": [
    "# 1. 產生一個 1-11 的一維陣列，並且把 3-6 由正數變成負數。\n",
    "a = np.arange(1,12) #產生一個 1-11 的一維陣列\n",
    "\n",
    "for i in a-1:\n",
    "    if (a[i] > 2) & (a[i] < 7):\n",
    "        a[i] = -a[i]\n",
    "        \n",
    "print(a)"
   ]
  },
  {
   "cell_type": "code",
   "execution_count": 24,
   "metadata": {},
   "outputs": [
    {
     "name": "stdout",
     "output_type": "stream",
     "text": [
      "[[0.96186715 0.9149768  0.17417411 0.40246162 0.91509886 0.43780963]\n",
      " [0.84728866 0.59435752 0.93226045 0.3387695  0.72168937 0.02085105]\n",
      " [0.38201746 0.0093327  0.39273979 0.29291664 0.91674808 0.84401008]]\n",
      "[0.96186715 0.9149768  0.91509886 0.84728866 0.59435752 0.93226045\n",
      " 0.72168937 0.91674808 0.84401008]\n",
      "9\n"
     ]
    }
   ],
   "source": [
    "# 2. 試著從一個隨機陣列中，找出比 0.5 大的數有幾個？\n",
    "\n",
    "A = np.random.rand(3, 6)\n",
    "print(A) # print A\n",
    "print(A[A > 0.5]) # 判斷大於0.5的數\n",
    "print(np.size(A[A > 0.5])) # 判斷大於0.5的數有幾個\n",
    "\n"
   ]
  },
  {
   "cell_type": "code",
   "execution_count": null,
   "metadata": {},
   "outputs": [],
   "source": []
  }
 ],
 "metadata": {
  "kernelspec": {
   "display_name": "Python 3",
   "language": "python",
   "name": "python3"
  },
  "language_info": {
   "codemirror_mode": {
    "name": "ipython",
    "version": 3
   },
   "file_extension": ".py",
   "mimetype": "text/x-python",
   "name": "python",
   "nbconvert_exporter": "python",
   "pygments_lexer": "ipython3",
   "version": "3.8.5"
  }
 },
 "nbformat": 4,
 "nbformat_minor": 4
}
